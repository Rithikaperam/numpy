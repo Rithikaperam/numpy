{
  "nbformat": 4,
  "nbformat_minor": 0,
  "metadata": {
    "colab": {
      "provenance": []
    },
    "kernelspec": {
      "name": "python3",
      "display_name": "Python 3"
    },
    "language_info": {
      "name": "python"
    }
  },
  "cells": [
    {
      "cell_type": "code",
      "execution_count": 4,
      "metadata": {
        "colab": {
          "base_uri": "https://localhost:8080/"
        },
        "id": "ZJDaXuBmdZWv",
        "outputId": "1050fb7a-5707-477b-ec27-21b5d40902f9"
      },
      "outputs": [
        {
          "output_type": "stream",
          "name": "stdout",
          "text": [
            "8\n",
            "16\n",
            "9\n",
            "4\n",
            "Function used in partial function pow2 : <function power at 0x7d10727e37f0>\n",
            "Default keywords for pow2 : {'b': 2}\n",
            "Default arguments for power_of_2 : (2,)\n"
          ]
        }
      ],
      "source": [
        "from functools import partial\n",
        "def power(a, b):\n",
        "\treturn a**b\n",
        "pow2 = partial(power, b=2)\n",
        "pow2 = partial(power, b=2)\n",
        "power_of_2 = partial(power, 2)\n",
        "\n",
        "print(power(2, 3))\n",
        "print(pow2(4))\n",
        "print(pow2(3))\n",
        "print(power_of_2(2))\n",
        "\n",
        "print('Function used in partial function pow2 :', pow2.func)\n",
        "print('Default keywords for pow2 :', pow2.keywords)\n",
        "print('Default arguments for power_of_2 :', power_of_2.args)\n"
      ]
    },
    {
      "cell_type": "code",
      "source": [
        "from functools import cmp_to_key\n",
        "def cmp_fun(a, b):\n",
        "\tif a[-1] > b[-1]:\n",
        "\t\treturn 1\n",
        "\telif a[-1] < b[-1]:\n",
        "\t\treturn -1\n",
        "\telse:\n",
        "\t\treturn 0\n",
        "list1 = ['Rithika', 'Rahul', 'Rohini']\n",
        "l = sorted(list1, key = cmp_to_key(cmp_fun))\n",
        "print('sorted list :', l)"
      ],
      "metadata": {
        "colab": {
          "base_uri": "https://localhost:8080/"
        },
        "id": "SJ20rdAJhYc8",
        "outputId": "28ab9b22-d1ef-4599-df4f-02479c001553"
      },
      "execution_count": 8,
      "outputs": [
        {
          "output_type": "stream",
          "name": "stdout",
          "text": [
            "sorted list : ['Rithika', 'Rohini', 'Rahul']\n"
          ]
        }
      ]
    },
    {
      "cell_type": "code",
      "source": [
        "from itertools import count\n",
        "for number in count(start=1, step=2):\n",
        "\tif number > 20:\n",
        "\t\tbreak\n",
        "\tprint(number)\n"
      ],
      "metadata": {
        "colab": {
          "base_uri": "https://localhost:8080/"
        },
        "id": "Lm_02gsyj7sT",
        "outputId": "4d37b21f-ccbc-4b0d-dc32-4a0a70ceb0d8"
      },
      "execution_count": 20,
      "outputs": [
        {
          "output_type": "stream",
          "name": "stdout",
          "text": [
            "1\n",
            "3\n",
            "5\n",
            "7\n",
            "9\n",
            "11\n",
            "13\n",
            "15\n",
            "17\n",
            "19\n"
          ]
        }
      ]
    },
    {
      "cell_type": "code",
      "source": [
        "import itertools\n",
        "count = 0\n",
        "for i in itertools.cycle('RR'):\n",
        "\tif count > 12:\n",
        "\t\tbreak\n",
        "\telse:\n",
        "\t\tprint(i, end=\" \")\n",
        "\t\tcount += 1"
      ],
      "metadata": {
        "colab": {
          "base_uri": "https://localhost:8080/"
        },
        "id": "J_Uj_mVLktyU",
        "outputId": "cda6846c-f62e-4ecf-f476-06316f771f9b"
      },
      "execution_count": 19,
      "outputs": [
        {
          "output_type": "stream",
          "name": "stdout",
          "text": [
            "R R R R R R R R R R R R R "
          ]
        }
      ]
    },
    {
      "cell_type": "code",
      "source": [
        "import itertools\n",
        "l = ['BCA', 'BSD', 'EEE']\n",
        "iterators = itertools.cycle(l)\n",
        "for i in range(6):\n",
        "\tprint(next(iterators), end=\" \")\n"
      ],
      "metadata": {
        "colab": {
          "base_uri": "https://localhost:8080/"
        },
        "id": "gaVXvp_7k9nE",
        "outputId": "5ec52470-a884-4704-d4d4-a411911cdb69"
      },
      "execution_count": 18,
      "outputs": [
        {
          "output_type": "stream",
          "name": "stdout",
          "text": [
            "BCA BSD EEE BCA BSD EEE "
          ]
        }
      ]
    }
  ]
}