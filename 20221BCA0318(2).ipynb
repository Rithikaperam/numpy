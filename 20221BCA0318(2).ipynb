{
  "nbformat": 4,
  "nbformat_minor": 0,
  "metadata": {
    "colab": {
      "provenance": []
    },
    "kernelspec": {
      "name": "python3",
      "display_name": "Python 3"
    },
    "language_info": {
      "name": "python"
    }
  },
  "cells": [
    {
      "cell_type": "markdown",
      "source": [
        "## ***Functools Module in Python***"
      ],
      "metadata": {
        "id": "GNhaEmhoGxPu"
      }
    },
    {
      "cell_type": "markdown",
      "source": [],
      "metadata": {
        "id": "sDjkT0C6HR_c"
      }
    },
    {
      "cell_type": "markdown",
      "source": [
        "Functools module is for higher-order functions that work on other functions.\n",
        "\n",
        "***It provides functions for working with other functions and callable objects to use or extend them without completely rewriting them. This module has two classes – partial and partialmethod.***"
      ],
      "metadata": {
        "id": "c6QFtCHZGwx0"
      }
    },
    {
      "cell_type": "markdown",
      "source": [],
      "metadata": {
        "id": "KCZrD-W5Q3On"
      }
    },
    {
      "cell_type": "markdown",
      "source": [
        "***A partial function ***:\n",
        "\n",
        " is an original function for particular argument values.\n",
        "They can be created in Python by using “partial” from the functools library. The __name__ and __doc__ attributes are to be created by the programmer as they are not created automatically.\n",
        "\n",
        "Objects created by partial() have three read-only attributes:\n",
        "\n",
        "Syntax:\n",
        "\n",
        "partial(func, /, *args, **keywords)\n",
        "\n",
        "partial.func – It returns the name of parent function along with hexadecimal address.\n",
        "\n",
        "partial.args – It returns the positional arguments provided in partial function.\n",
        "\n",
        "partial.keywords – It returns the keyword arguments provided in partial function."
      ],
      "metadata": {
        "id": "jpydigJxQLHf"
      }
    },
    {
      "cell_type": "code",
      "source": [
        "from functools import partial\n",
        "\n",
        "\n",
        "def power(a, b):\n",
        "\treturn a**b\n",
        "\n",
        "\n",
        "# partial functions\n",
        "pow5 = partial(power, b=5)\n",
        "pow12 = partial(power, b=12)\n",
        "power_of_5 = partial(power, 5)\n",
        "\n",
        "print(power(2, 3))\n",
        "print(pow5(4))\n",
        "print(pow12(3))\n",
        "print(power_of_5(2))\n",
        "\n",
        "print('Function used in partial function pow2 :', pow5.func)\n",
        "print('Default keywords for pow2 :', pow12.keywords)\n",
        "print('Default arguments for power_of_5 :', power_of_5.args)\n"
      ],
      "metadata": {
        "colab": {
          "base_uri": "https://localhost:8080/"
        },
        "id": "RqhKs5A5OjjC",
        "outputId": "3a6ec417-225f-4ebf-cb20-d593a27f25ed"
      },
      "execution_count": 1,
      "outputs": [
        {
          "output_type": "stream",
          "name": "stdout",
          "text": [
            "8\n",
            "1024\n",
            "531441\n",
            "25\n",
            "Function used in partial function pow2 : <function power at 0x7ab6a63c9120>\n",
            "Default keywords for pow2 : {'b': 12}\n",
            "Default arguments for power_of_5 : (5,)\n"
          ]
        }
      ]
    },
    {
      "cell_type": "markdown",
      "source": [
        "***Partialmethod class***\n",
        "\n",
        "It is a method definition of an already defined function for specific arguments like a partial function. However, it is not callable but is only a method descriptor. It returns a new partialmethod descriptor."
      ],
      "metadata": {
        "id": "CKFMOsz-R4SJ"
      }
    },
    {
      "cell_type": "code",
      "source": [
        "from functools import partialmethod\n",
        "\n",
        "class Demo:\n",
        "\tdef __init__(self):\n",
        "\t\tself.color = 'blue'\n",
        "\n",
        "\tdef _color(self, type):\n",
        "\t\tself.color = type\n",
        "\n",
        "\tset_orange= partialmethod(_color, type='orange')\n",
        "\tset_yellow = partialmethod(_color, type='yellow')\n",
        "\tset_green = partialmethod(_color, type='green')\n",
        "\n",
        "\n",
        "obj = Demo()\n",
        "print(obj.color)\n",
        "\n",
        "obj.set_orange()\n",
        "print(obj.color)\n",
        "\n",
        "obj.set_yellow()\n",
        "print(obj.color)\n",
        "\n",
        "obj.set_green()\n",
        "print(obj.color)"
      ],
      "metadata": {
        "colab": {
          "base_uri": "https://localhost:8080/"
        },
        "id": "KsXwWyBvSOTA",
        "outputId": "abbc9127-3596-4fa1-b5fc-4bfc696bf2dd"
      },
      "execution_count": 2,
      "outputs": [
        {
          "output_type": "stream",
          "name": "stdout",
          "text": [
            "blue\n",
            "orange\n",
            "yellow\n",
            "green\n"
          ]
        }
      ]
    },
    {
      "cell_type": "markdown",
      "source": [
        "# ***Functions***\n",
        "\n",
        "1. ***Cmp_to_key***  : It converts a comparison function into a key function.\n",
        "The comparison function must return 1, -1 and 0 for different conditions.\n",
        "It can be used in key functions such as sorted(), min(), max().\n",
        "\n",
        "Syntax:\n",
        "\n",
        "function(iterable, key=cmp_to_key(cmp_function))"
      ],
      "metadata": {
        "id": "WteHYWZw3Px7"
      }
    },
    {
      "cell_type": "code",
      "source": [
        "from functools import cmp_to_key\n",
        "\n",
        "# function to sort according to last character\n",
        "def cmp_fun(a, b):\n",
        "\tif a[-1] > b[-1]:\n",
        "\t\treturn 1\n",
        "\telif a[-1] < b[-1]:\n",
        "\t\treturn -1\n",
        "\telse:\n",
        "\t\treturn 0\n",
        "\n",
        "list1 = ['P', 'R', 'Y']\n",
        "l = sorted(list1, key = cmp_to_key(cmp_fun))\n",
        "print('sorted list :', l)\n"
      ],
      "metadata": {
        "colab": {
          "base_uri": "https://localhost:8080/"
        },
        "id": "jhsOJhRl3O2p",
        "outputId": "82c98b1a-cefa-4473-d762-42b08cd1b9a5"
      },
      "execution_count": 3,
      "outputs": [
        {
          "output_type": "stream",
          "name": "stdout",
          "text": [
            "sorted list : ['P', 'R', 'Y']\n"
          ]
        }
      ]
    },
    {
      "cell_type": "markdown",
      "source": [
        "2. ## ***Reduce*** : It applies a function of two arguments repeatedly on the elements of a sequence so as to reduce the sequence to a single value.\n",
        "\n",
        "For example, reduce(lambda x, y : x^y, [1, 2, 3, 4])\n",
        "\n",
        "*** calculates (((1^2)^3)^4).***\n",
        "\n",
        "If the initial is present, it is placed first in the calculation, and the default result is when the sequence is empty.\n",
        "\n",
        "Syntax:\n",
        "\n",
        "reduce(function, sequence[, initial]) -> value  "
      ],
      "metadata": {
        "id": "vtrxnjqt4Ds-"
      }
    },
    {
      "cell_type": "code",
      "source": [
        "from functools import reduce\n",
        "list1 = [2, 4, 7, 9, 1, 3]\n",
        "sum_of_list1 = reduce(lambda a, b:a + b, list1)\n",
        "\n",
        "list2 = [\"rrr\", \"abc\", \"def\"]\n",
        "max_of_list2 = reduce(lambda a, b:a if a>b else b, list2)\n",
        "\n",
        "print('Sum of list1 :', sum_of_list1)\n",
        "print('Maximum of list2 :', max_of_list2)\n"
      ],
      "metadata": {
        "colab": {
          "base_uri": "https://localhost:8080/"
        },
        "id": "6-YCJdJH5uts",
        "outputId": "e40ff1bb-7c30-4fd6-a2be-5f2e2d024e34"
      },
      "execution_count": 4,
      "outputs": [
        {
          "output_type": "stream",
          "name": "stdout",
          "text": [
            "Sum of list1 : 26\n",
            "Maximum of list2 : rrr\n"
          ]
        }
      ]
    },
    {
      "cell_type": "markdown",
      "source": [
        "3. ***Total_ordering :***\n",
        "\n",
        "It is a class decorator that fills in the missing comparison methods (__lt__, __gt__, __eq__, __le__, __ge__). If a class is given which defines one or more comparison methods, “@total_ordering” automatically supplies the rest as per the given definitions. However, the class must define one of __lt__(), __le__(), __gt__(), or __ge__() and additionally, the class should supply an __eq__() method."
      ],
      "metadata": {
        "id": "2FuW1SkK6if9"
      }
    },
    {
      "cell_type": "code",
      "source": [
        "from functools import total_ordering\n",
        "\n",
        "@total_ordering\n",
        "class N:\n",
        "\tdef __init__(self, value):\n",
        "\t\tself.value = value\n",
        "\tdef __eq__(self, other):\n",
        "\t\treturn self.value == other.value\n",
        "\n",
        "\t# Reverse the function of\n",
        "\t# '<' operator and accordingly\n",
        "\t# other rich comparison operators\n",
        "\t# due to total_ordering decorator\n",
        "\tdef __lt__(self, other):\n",
        "\t\treturn self.value > other.value\n",
        "\n",
        "\n",
        "print('12 > 2 :', N(12)>N(2))\n",
        "print('8 < 1 :', N(8)<N(1))\n",
        "print('1 <= 6 :', N(1)<= N(6))\n",
        "print('17 >= 10 :', N(17)>= N(10))\n",
        "print('17 == 17 :', N(17)== N(17))\n"
      ],
      "metadata": {
        "colab": {
          "base_uri": "https://localhost:8080/"
        },
        "id": "9YOPOG-m64AJ",
        "outputId": "9b5f49a1-29a2-4574-f44d-4e9e027b53e4"
      },
      "execution_count": 5,
      "outputs": [
        {
          "output_type": "stream",
          "name": "stdout",
          "text": [
            "12 > 2 : False\n",
            "8 < 1 : True\n",
            "1 <= 6 : False\n",
            "17 >= 10 : False\n",
            "17 == 17 : True\n"
          ]
        }
      ]
    },
    {
      "cell_type": "markdown",
      "source": [
        "# ***asyncio in Python***\n",
        "\n",
        "***Asyncio is a Python library that is used for concurrent programming. It is not multi-threading or multi-processing. Asyncio is used as a foundation for multiple Python asynchronous frameworks that provide high-performance network and web servers, database connection libraries, distributed task queues, etc.***"
      ],
      "metadata": {
        "id": "QwuqfIMF5XMW"
      }
    },
    {
      "cell_type": "markdown",
      "source": [
        "# ***Difference between Asynchronous and multi-threading programming ***\n",
        "\n",
        "**Asynchronous programming basically means that only one part of a program will run at a certain time.**\n",
        "\n",
        "For example, suppose we have 3 functions defined in our Python program. Consider a situation when fn1() is not doing anything, it is either asleep or just waiting or has returned a value (done its work).\n",
        "So, to save the CPU time, the other function (fn2()) will start executing and then only the third function (fn3()) will execute. This is the concept of Asynchronous programming (one thing is done at one time)\n",
        "\n",
        "***whereas, in multi-threading or multi-processing, all these three functions will run at the same time, they won’t wait for the previous function to finish or sleep***.\n",
        "\n",
        "Note that only specific functions are made asynchronous, not the whole program this is done with the help of the Asyncio Python library."
      ],
      "metadata": {
        "id": "IUb_0FDl7bm3"
      }
    },
    {
      "cell_type": "markdown",
      "source": [
        "To achieve this, an async keyword is used.\n",
        "\n",
        "The program will wait for 1 second after it the first print statement is executed and then print the next print statement and so on.\n",
        "\n",
        "Note that we’ll make it sleep (or wait) with the help of await asyncio.sleep(1) keyword, not with time.sleep().\n",
        "\n",
        " To run the program, we’ll have to use the run() function as it is given below."
      ],
      "metadata": {
        "id": "2A8frxAh9HZS"
      }
    }
  ]
}