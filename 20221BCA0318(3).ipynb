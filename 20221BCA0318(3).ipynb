{
  "nbformat": 4,
  "nbformat_minor": 0,
  "metadata": {
    "colab": {
      "provenance": []
    },
    "kernelspec": {
      "name": "python3",
      "display_name": "Python 3"
    },
    "language_info": {
      "name": "python"
    }
  },
  "cells": [
    {
      "cell_type": "markdown",
      "source": [
        "## ***The IterTools module***\n",
        "The itertools module contains a number of commonly used iterators as well as functions for combining several iterators.\n",
        "\n",
        "The module’s functions fall into a few broad classes:\n",
        "•\tFunctions that create a new iterator based on an existing iterator.\n",
        "\n",
        "•\tFunctions for treating an iterator’s elements as function arguments.\n",
        "\n",
        "•\tFunctions for selecting portions of an iterator’s output.\n",
        "\n",
        "•\tA function for grouping an iterator’s output"
      ],
      "metadata": {
        "id": "SwSt3Ps560qI"
      }
    },
    {
      "cell_type": "markdown",
      "source": [
        "# ***Creating New Iterators***"
      ],
      "metadata": {
        "id": "RVgVV1H76Bzq"
      }
    },
    {
      "cell_type": "markdown",
      "source": [
        "***1.count*** : itertools.count(start, step) returns an infinite stream of evenly spaced values. You can optionally supply the starting number, which defaults to 0, and the interval between numbers, which defaults to 1"
      ],
      "metadata": {
        "id": "9UBr_xWm7jYM"
      }
    },
    {
      "cell_type": "code",
      "source": [
        "from itertools import count\n",
        "\n",
        "for number in count(start=1, step=2):\n",
        "\tif number > 20:\n",
        "\t\tbreak\n",
        "\tprint(number) # print statement\n"
      ],
      "metadata": {
        "colab": {
          "base_uri": "https://localhost:8080/"
        },
        "id": "C9fI0kC97nAH",
        "outputId": "db5490b6-e7a3-4b36-9f94-a81d57e3318d"
      },
      "execution_count": 1,
      "outputs": [
        {
          "output_type": "stream",
          "name": "stdout",
          "text": [
            "1\n",
            "3\n",
            "5\n",
            "7\n",
            "9\n",
            "11\n",
            "13\n",
            "15\n",
            "17\n",
            "19\n"
          ]
        }
      ]
    },
    {
      "cell_type": "markdown",
      "source": [
        "Different types of iterators provided by this module are:\n",
        "\n",
        "# Infinite iterators\n",
        "\n",
        "# Combinatoric iterators\n",
        "\n",
        "# Terminating iterators"
      ],
      "metadata": {
        "id": "UbDVt6Nu91Ov"
      }
    },
    {
      "cell_type": "markdown",
      "source": [
        "## ***Infinite Iterators***\n",
        "Iterator in Python is any Python type that can be used with a ‘for in loop’. Python lists, tuples, dictionaries, and sets are all examples of inbuilt iterators.\n",
        "But it is not necessary that an iterator object has to exhaust, sometimes it can be infinite. Such types of iterators are known as Infinite iterators"
      ],
      "metadata": {
        "id": "Izj-cmwS-i9a"
      }
    },
    {
      "cell_type": "markdown",
      "source": [
        "Python provides three types of infinite iterators:\n",
        "\n",
        "1***. count(start, step):*** This iterator starts printing from the “start” number and prints infinitely. If steps are mentioned, the numbers are skipped else step is 1 by default. See the below example for its use with for in loop."
      ],
      "metadata": {
        "id": "ebPxelB7-tDZ"
      }
    },
    {
      "cell_type": "code",
      "source": [
        "# Python program to demonstrate\n",
        "# infinite iterators\n",
        "\n",
        "import itertools\n",
        "\n",
        "# for in loop\n",
        "for i in itertools.count(5, 5):\n",
        "\tif i == 25:\n",
        "\t\tbreak\n",
        "\telse:\n",
        "\t\tprint(i, end=\" \")\n"
      ],
      "metadata": {
        "colab": {
          "base_uri": "https://localhost:8080/"
        },
        "id": "A25V5XOh_aZ8",
        "outputId": "2307f6cd-9c85-4402-981a-ce275b6ee8fc"
      },
      "execution_count": 2,
      "outputs": [
        {
          "output_type": "stream",
          "name": "stdout",
          "text": [
            "5 10 15 20 "
          ]
        }
      ]
    },
    {
      "cell_type": "markdown",
      "source": [
        "# ***2. cycle(iterable):*** This iterator prints all values in order from the passed container. It restarts printing from the beginning again when all elements are printed in a cyclic manner."
      ],
      "metadata": {
        "id": "Mu41PZnE_1hl"
      }
    },
    {
      "cell_type": "code",
      "source": [
        "# Python program to demonstrate\n",
        "# infinite iterators\n",
        "\n",
        "import itertools\n",
        "\n",
        "count = 0\n",
        "\n",
        "# for in loop\n",
        "for i in itertools.cycle('PR'):\n",
        "\tif count > 12:\n",
        "\t\tbreak\n",
        "\telse:\n",
        "\t\tprint(i, end=\" \")\n",
        "\t\tcount += 1\n"
      ],
      "metadata": {
        "colab": {
          "base_uri": "https://localhost:8080/"
        },
        "id": "aywZ7-a2_66j",
        "outputId": "2a441b82-8a22-4054-a0c6-2c5a998320e7"
      },
      "execution_count": 3,
      "outputs": [
        {
          "output_type": "stream",
          "name": "stdout",
          "text": [
            "P R P R P R P R P R P R P "
          ]
        }
      ]
    },
    {
      "cell_type": "code",
      "source": [
        "#Using the next function\n",
        "# Python program to demonstrate\n",
        "# infinite iterators\n",
        "\n",
        "import itertools\n",
        "\n",
        "l = ['BCA', 'BCOM', 'ECE']\n",
        "\n",
        "# defining iterator\n",
        "iterators = itertools.cycle(l)\n",
        "\n",
        "# for in loop\n",
        "for i in range(6):\n",
        "\n",
        "\t# Using next function\n",
        "\tprint(next(iterators), end=\" \")\n"
      ],
      "metadata": {
        "colab": {
          "base_uri": "https://localhost:8080/"
        },
        "id": "nPsUu6Tr-B5E",
        "outputId": "5d37bc99-f2be-4eef-ccf3-c263d2c518d2"
      },
      "execution_count": 4,
      "outputs": [
        {
          "output_type": "stream",
          "name": "stdout",
          "text": [
            "BCA BCOM ECE BCA BCOM ECE "
          ]
        }
      ]
    },
    {
      "cell_type": "code",
      "source": [
        "#repeat(val, num):\n",
        "# Python code to demonstrate the working of\n",
        "# repeat()\n",
        "\n",
        "# importing \"itertools\" for iterator operations\n",
        "import itertools\n",
        "\n",
        "# using repeat() to repeatedly print number\n",
        "print(\"Printing the numbers repeatedly : \")\n",
        "print(list(itertools.repeat(12, 4)))\n"
      ],
      "metadata": {
        "colab": {
          "base_uri": "https://localhost:8080/"
        },
        "id": "RMRn2PiHAnMH",
        "outputId": "a2fa1e3f-f339-4ec5-d442-148147e44d18"
      },
      "execution_count": 5,
      "outputs": [
        {
          "output_type": "stream",
          "name": "stdout",
          "text": [
            "Printing the numbers repeatedly : \n",
            "[12, 12, 12, 12]\n"
          ]
        }
      ]
    },
    {
      "cell_type": "markdown",
      "source": [
        "# ***2. Combinatoric iterators***\n",
        "\n",
        "The recursive generators that are used to simplify combinatorial constructs such as permutations, combinations, and Cartesian products are called combinatoric iterators.\n",
        "\n",
        "Product():\n",
        "\n",
        "Permutations()\n",
        "\n",
        "Combinations():\n",
        "\n",
        "Combinations_with_replacement():"
      ],
      "metadata": {
        "id": "iGqFnSqdAZ8O"
      }
    },
    {
      "cell_type": "markdown",
      "source": [
        "# ***Product(): ***\n",
        "\n",
        "This tool computes the cartesian product of input iterables. To compute the product of an iterable with itself, we use the optional repeat keyword argument to specify the number of repetitions. The output of this function is tuples in sorted order."
      ],
      "metadata": {
        "id": "s4dR6s9dJmXh"
      }
    },
    {
      "cell_type": "code",
      "source": [
        "# import the product function from itertools module\n",
        "from itertools import product\n",
        "\n",
        "print(\"The cartesian product using repeat:\")\n",
        "print(list(product([5,1], repeat=1)))\n",
        "print()\n",
        "\n",
        "print(\"The cartesian product of the containers:\")\n",
        "print(list(product(['BCA', 'CSE', 'BSD'], '2')))\n",
        "print()\n",
        "\n",
        "print(\"The cartesian product of the containers:\")\n",
        "print(list(product('XY', [5, 8])))\n"
      ],
      "metadata": {
        "colab": {
          "base_uri": "https://localhost:8080/"
        },
        "id": "2nGgcZ-x9S5D",
        "outputId": "d901cd20-9c23-44a7-d630-2db1649b7cff"
      },
      "execution_count": 6,
      "outputs": [
        {
          "output_type": "stream",
          "name": "stdout",
          "text": [
            "The cartesian product using repeat:\n",
            "[(5,), (1,)]\n",
            "\n",
            "The cartesian product of the containers:\n",
            "[('BCA', '2'), ('CSE', '2'), ('BSD', '2')]\n",
            "\n",
            "The cartesian product of the containers:\n",
            "[('X', 5), ('X', 8), ('Y', 5), ('Y', 8)]\n"
          ]
        }
      ]
    },
    {
      "cell_type": "markdown",
      "source": [
        "# ***Permutations():***\n",
        " Permutations() as the name speaks for itself is used to generate all possible permutations of an iterable. All elements are treated as unique based on their position and not their values. This function takes an iterable and group_size, if the value of group_size is not specified or is equal to None then the value of group_size becomes the length of the iterable."
      ],
      "metadata": {
        "id": "YnZ9QwqCKBWp"
      }
    },
    {
      "cell_type": "code",
      "source": [
        "# import the product function from itertools module\n",
        "from itertools import permutations\n",
        "\n",
        "print(\"All the permutations of the given list is:\")\n",
        "print(list(permutations([3, 'software'], 2)))\n",
        "print()\n",
        "\n",
        "print(\"All the permutations of the given string is:\")\n",
        "print(list(permutations('RR')))\n",
        "print()\n",
        "\n",
        "print(\"All the permutations of the given container is:\")\n",
        "print(list(permutations(range(2), 2)))\n"
      ],
      "metadata": {
        "colab": {
          "base_uri": "https://localhost:8080/"
        },
        "id": "0ta1eX-uKLqy",
        "outputId": "13769253-6dce-4dc6-8af0-11869e8e0c54"
      },
      "execution_count": 7,
      "outputs": [
        {
          "output_type": "stream",
          "name": "stdout",
          "text": [
            "All the permutations of the given list is:\n",
            "[(3, 'software'), ('software', 3)]\n",
            "\n",
            "All the permutations of the given string is:\n",
            "[('R', 'R'), ('R', 'R')]\n",
            "\n",
            "All the permutations of the given container is:\n",
            "[(0, 1), (1, 0)]\n"
          ]
        }
      ]
    },
    {
      "cell_type": "markdown",
      "source": [
        "# ***Combinations(): ***\n",
        "This iterator prints all the possible combinations(without replacement) of the container passed in arguments in the specified group size in sorted order."
      ],
      "metadata": {
        "id": "d4BWUluEKQ1j"
      }
    },
    {
      "cell_type": "code",
      "source": [
        "# import combinations from itertools module\n",
        "\n",
        "from itertools import combinations\n",
        "\n",
        "print (\"All the combination of list in sorted order(without replacement) is:\")\n",
        "print(list(combinations(['R', 3], 2)))\n",
        "print()\n",
        "\n",
        "print (\"All the combination of string in sorted order(without replacement) is:\")\n",
        "print(list(combinations('RR', 2)))\n",
        "print()\n",
        "\n",
        "print (\"All the combination of list in sorted order(without replacement) is:\")\n",
        "print(list(combinations(range(4), 1)))\n"
      ],
      "metadata": {
        "colab": {
          "base_uri": "https://localhost:8080/"
        },
        "id": "gu4J75DCKkj3",
        "outputId": "4c29da25-bedb-4e6e-e66b-13e31933b3dd"
      },
      "execution_count": 8,
      "outputs": [
        {
          "output_type": "stream",
          "name": "stdout",
          "text": [
            "All the combination of list in sorted order(without replacement) is:\n",
            "[('R', 3)]\n",
            "\n",
            "All the combination of string in sorted order(without replacement) is:\n",
            "[('R', 'R')]\n",
            "\n",
            "All the combination of list in sorted order(without replacement) is:\n",
            "[(0,), (1,), (2,), (3,)]\n"
          ]
        }
      ]
    },
    {
      "cell_type": "code",
      "source": [],
      "metadata": {
        "id": "NLi3zEhbN8Qu"
      },
      "execution_count": null,
      "outputs": []
    },
    {
      "cell_type": "markdown",
      "source": [
        "# ***Combinations_with_replacement(): ***\n",
        "This function returns a subsequence of length n from the elements of the iterable where n is the argument that the function takes determining the length of the subsequences generated by the function. Individual elements may repeat itself in combinations_with_replacement function"
      ],
      "metadata": {
        "id": "G3AqONVnKv7R"
      }
    },
    {
      "cell_type": "code",
      "source": [
        "# import combinations from itertools module\n",
        "\n",
        "from itertools import combinations_with_replacement\n",
        "\n",
        "print(\"All the combination of string in sorted order(with replacement) is:\")\n",
        "print(list(combinations_with_replacement(\"XY\", 2)))\n",
        "print()\n",
        "\n",
        "print(\"All the combination of list in sorted order(with replacement) is:\")\n",
        "print(list(combinations_with_replacement([4, 5], 2)))\n",
        "print()\n",
        "\n",
        "print(\"All the combination of container in sorted order(with replacement) is:\")\n",
        "print(list(combinations_with_replacement(range(1), 1)))\n"
      ],
      "metadata": {
        "colab": {
          "base_uri": "https://localhost:8080/"
        },
        "id": "Xw_TrManK2Hr",
        "outputId": "1e0ac752-da04-4a1c-962b-ccf2548069fe"
      },
      "execution_count": 9,
      "outputs": [
        {
          "output_type": "stream",
          "name": "stdout",
          "text": [
            "All the combination of string in sorted order(with replacement) is:\n",
            "[('X', 'X'), ('X', 'Y'), ('Y', 'Y')]\n",
            "\n",
            "All the combination of list in sorted order(with replacement) is:\n",
            "[(4, 4), (4, 5), (5, 5)]\n",
            "\n",
            "All the combination of container in sorted order(with replacement) is:\n",
            "[(0,)]\n"
          ]
        }
      ]
    },
    {
      "cell_type": "markdown",
      "source": [
        "# **Terminating iterators**\n",
        "Terminating iterators are used to work on the short input sequences and produce the output based on the functionality of the method used.\n",
        "\n",
        "Different types of terminating iterators are:\n",
        "\n",
        "1.***accumulate(iter, func)***: This iterator takes two arguments, iterable target and the function which would be followed at each iteration of value in target. If no function is passed, addition takes place by default. If the input iterable is empty, the output iterable will also be empty"
      ],
      "metadata": {
        "id": "TrH-Y1ifLMOq"
      }
    },
    {
      "cell_type": "code",
      "source": [
        "# Python code to demonstrate the working of\n",
        "# accumulate()\n",
        "\n",
        "\n",
        "import itertools\n",
        "import operator\n",
        "\n",
        "# initializing list 1\n",
        "li1 = [7,3,9,6]\n",
        "\n",
        "# using accumulate()\n",
        "# prints the successive summation of elements\n",
        "print(\"The sum after each iteration is : \", end=\"\")\n",
        "print(list(itertools.accumulate(li1)))\n",
        "\n",
        "# using accumulate()\n",
        "# prints the successive multiplication of elements\n",
        "print(\"The product after each iteration is : \", end=\"\")\n",
        "print(list(itertools.accumulate(li1, operator.mul)))\n",
        "\n",
        "# using accumulate()\n",
        "# prints the successive summation of elements\n",
        "print(\"The sum after each iteration is : \", end=\"\")\n",
        "print(list(itertools.accumulate(li1)))\n",
        "\n",
        "# using accumulate()\n",
        "# prints the successive multiplication of elements\n",
        "print(\"The product after each iteration is : \", end=\"\")\n",
        "print(list(itertools.accumulate(li1, operator.mul)))\n"
      ],
      "metadata": {
        "colab": {
          "base_uri": "https://localhost:8080/"
        },
        "id": "K0WnqwnkSah9",
        "outputId": "9ff63d91-7803-4408-ab1d-4dd1b88792e1"
      },
      "execution_count": 10,
      "outputs": [
        {
          "output_type": "stream",
          "name": "stdout",
          "text": [
            "The sum after each iteration is : [7, 10, 19, 25]\n",
            "The product after each iteration is : [7, 21, 189, 1134]\n",
            "The sum after each iteration is : [7, 10, 19, 25]\n",
            "The product after each iteration is : [7, 21, 189, 1134]\n"
          ]
        }
      ]
    },
    {
      "cell_type": "markdown",
      "source": [
        "## 2.**chain(iter1, iter2..):** This function is used to print all the values in iterable targets one after another mentioned in its arguments. *italicized text*"
      ],
      "metadata": {
        "id": "LGbCR19HSpMk"
      }
    },
    {
      "cell_type": "code",
      "source": [
        "# Python code to demonstrate the working of\n",
        "# and chain()\n",
        "\n",
        "\n",
        "import itertools\n",
        "\n",
        "# initializing list 1\n",
        "li1 = [1, 12, 5, 7]\n",
        "\n",
        "# initializing list 2\n",
        "li2 = [1, 6, 17, 9]\n",
        "\n",
        "# initializing list 3\n",
        "li3 = [8, 10, 5, 4]\n",
        "\n",
        "# using chain() to print all elements of lists\n",
        "print(\"All values in mentioned chain are : \", end=\"\")\n",
        "print(list(itertools.chain(li1, li2, li3)))\n"
      ],
      "metadata": {
        "colab": {
          "base_uri": "https://localhost:8080/"
        },
        "id": "39B3b2eOStQ6",
        "outputId": "51c65d78-7c5c-4100-a7d4-2b391acf7396"
      },
      "execution_count": 11,
      "outputs": [
        {
          "output_type": "stream",
          "name": "stdout",
          "text": [
            "All values in mentioned chain are : [1, 12, 5, 7, 1, 6, 17, 9, 8, 10, 5, 4]\n"
          ]
        }
      ]
    },
    {
      "cell_type": "markdown",
      "source": [
        "# 3.***chain.from_iterable():*** This function is implemented similarly as a chain() but the argument here is a list of lists or any other iterable container."
      ],
      "metadata": {
        "id": "p1AD7ny7S4FN"
      }
    },
    {
      "cell_type": "code",
      "source": [
        "# Python code to demonstrate the working of\n",
        "# chain.from_iterable()\n",
        "\n",
        "\n",
        "import itertools\n",
        "\n",
        "\n",
        "# initializing list 1\n",
        "li1 = [15, 4, 5, 7]\n",
        "\n",
        "# initializing list 2\n",
        "li2 = [1, 6, 5, 91]\n",
        "\n",
        "# initializing list 3\n",
        "li3 = [18, 100, 52, 4]\n",
        "\n",
        "# initializing list of list\n",
        "li4 = [li1, li2, li3]\n",
        "\n",
        "# using chain.from_iterable() to print all elements of lists\n",
        "print (\"All values in mentioned chain are : \", end =\"\")\n",
        "print (list(itertools.chain.from_iterable(li4)))\n"
      ],
      "metadata": {
        "colab": {
          "base_uri": "https://localhost:8080/"
        },
        "id": "hYyQbTeOS-Gz",
        "outputId": "f69d3972-b455-47ab-c560-a74bca303966"
      },
      "execution_count": 12,
      "outputs": [
        {
          "output_type": "stream",
          "name": "stdout",
          "text": [
            "All values in mentioned chain are : [15, 4, 5, 7, 1, 6, 5, 91, 18, 100, 52, 4]\n"
          ]
        }
      ]
    },
    {
      "cell_type": "markdown",
      "source": [
        "# 4. ***compress(iter, selector):*** This iterator selectively picks the values to print from the passed container according to the boolean list value passed as other arguments. The arguments corresponding to boolean true are printed else all are skipped."
      ],
      "metadata": {
        "id": "Xrxu4J0ETIJV"
      }
    },
    {
      "cell_type": "code",
      "source": [
        "# Python code to demonstrate the working of\n",
        "# and compress()\n",
        "\n",
        "\n",
        "import itertools\n",
        "\n",
        "\n",
        "# using compress() selectively print data values\n",
        "print(\"The compressed values in string are : \", end=\"\")\n",
        "print(list(itertools.compress('RITHIKAREDDY', [\n",
        "\t1, 0, 0, 0, 0, 1, 0, 0, 1, 0, 0, 0, 0])))\n"
      ],
      "metadata": {
        "colab": {
          "base_uri": "https://localhost:8080/"
        },
        "id": "GxWCXO5zTLyo",
        "outputId": "9b6c55a8-bb12-4f43-a4de-263771c67732"
      },
      "execution_count": 13,
      "outputs": [
        {
          "output_type": "stream",
          "name": "stdout",
          "text": [
            "The compressed values in string are : ['R', 'K', 'E']\n"
          ]
        }
      ]
    },
    {
      "cell_type": "markdown",
      "source": [
        "5.***dropwhile(func, seq):*** This iterator starts printing the characters only after the func. in argument returns false for the first time."
      ],
      "metadata": {
        "id": "Upp6_F8bTYHs"
      }
    },
    {
      "cell_type": "code",
      "source": [
        "# Python code to demonstrate the working of\n",
        "# dropwhile()\n",
        "\n",
        "\n",
        "import itertools\n",
        "\n",
        "\n",
        "# initializing list\n",
        "li = [14,18,20,25]\n",
        "\n",
        "# using dropwhile() to start displaying after condition is false\n",
        "print (\"The values after condition returns false : \", end =\"\")\n",
        "print (list(itertools.dropwhile(lambda x : x % 2 == 0, li)))\n"
      ],
      "metadata": {
        "colab": {
          "base_uri": "https://localhost:8080/"
        },
        "id": "qvlGnVeIToHI",
        "outputId": "913b0fd8-a91d-4230-8538-682dc0631646"
      },
      "execution_count": 14,
      "outputs": [
        {
          "output_type": "stream",
          "name": "stdout",
          "text": [
            "The values after condition returns false : [25]\n"
          ]
        }
      ]
    },
    {
      "cell_type": "markdown",
      "source": [
        "6. # ***dropwhile(func, seq):*** This iterator starts printing the characters only after the func. in argument returns false for the first time."
      ],
      "metadata": {
        "id": "ywPiCFfITtlE"
      }
    },
    {
      "cell_type": "code",
      "source": [
        "# Python code to demonstrate the working of\n",
        "# dropwhile()\n",
        "\n",
        "\n",
        "import itertools\n",
        "\n",
        "\n",
        "# initializing list\n",
        "li = [21,13,17,8,29]\n",
        "\n",
        "# using dropwhile() to start displaying after condition is false\n",
        "print (\"The values after condition returns false : \", end =\"\")\n",
        "print (list(itertools.dropwhile(lambda x : x % 2 == 0, li)))\n"
      ],
      "metadata": {
        "colab": {
          "base_uri": "https://localhost:8080/"
        },
        "id": "CyyijrN1TyS4",
        "outputId": "6906b6a0-03f2-45b7-ac8f-dec67b5d98b5"
      },
      "execution_count": 15,
      "outputs": [
        {
          "output_type": "stream",
          "name": "stdout",
          "text": [
            "The values after condition returns false : [21, 13, 17, 8, 29]\n"
          ]
        }
      ]
    },
    {
      "cell_type": "markdown",
      "source": [
        "##7.  ***filterfalse(func, seq):*** As the name suggests, this iterator prints only values that return false for the passed function"
      ],
      "metadata": {
        "id": "lJU7ykYtUAcE"
      }
    },
    {
      "cell_type": "code",
      "source": [
        "# Python code to demonstrate the working of\n",
        "# filterfalse()\n",
        "\n",
        "\n",
        "import itertools\n",
        "\n",
        "# initializing list\n",
        "li = [2, 5, 7, 8]\n",
        "\n",
        "# using filterfalse() to print false values\n",
        "print (\"The values that return false to function are : \", end =\"\")\n",
        "print (list(itertools.filterfalse(lambda x : x % 2 == 0, li)))\n"
      ],
      "metadata": {
        "colab": {
          "base_uri": "https://localhost:8080/"
        },
        "id": "D4DAPO8MTeGt",
        "outputId": "58de8c73-0d43-49ff-fead-a837e851a24b"
      },
      "execution_count": 16,
      "outputs": [
        {
          "output_type": "stream",
          "name": "stdout",
          "text": [
            "The values that return false to function are : [5, 7]\n"
          ]
        }
      ]
    },
    {
      "cell_type": "markdown",
      "source": [
        "# 8.***islice(iterable, start, stop, step):***\n",
        "This iterator selectively prints the values mentioned in its iterable container passed as argument. This iterator takes 4 arguments, iterable container, starting pos., ending position and step"
      ],
      "metadata": {
        "id": "Tmv-KWBvUO5n"
      }
    },
    {
      "cell_type": "code",
      "source": [
        "# Python code to demonstrate the working of\n",
        "# islice()\n",
        "\n",
        "\n",
        "import itertools\n",
        "\n",
        "# initializing list\n",
        "li = [2, 4, 6, 7, 8, 10, 20]\n",
        "\n",
        "# using islice() to slice the list acc. to need\n",
        "# starts printing from 2nd index till 6th skipping 2\n",
        "print (\"The sliced list values are : \", end =\"\")\n",
        "print (list(itertools.islice(li, 1, 6, 2)))\n"
      ],
      "metadata": {
        "colab": {
          "base_uri": "https://localhost:8080/"
        },
        "id": "35TeqU8OUS_d",
        "outputId": "de8fb5d0-9235-4356-81c1-d75c3a969345"
      },
      "execution_count": 17,
      "outputs": [
        {
          "output_type": "stream",
          "name": "stdout",
          "text": [
            "The sliced list values are : [4, 7, 10]\n"
          ]
        }
      ]
    },
    {
      "cell_type": "markdown",
      "source": [
        "# 9.***starmap(func., tuple list):***\n",
        "This iterator takes a function and tuple list as argument and returns the value according to the function from each tuple of the list."
      ],
      "metadata": {
        "id": "3iXZ8mxkVelx"
      }
    },
    {
      "cell_type": "code",
      "source": [
        "# Python code to demonstrate the working of\n",
        "# starmap()\n",
        "\n",
        "\n",
        "import itertools\n",
        "\n",
        "\n",
        "# initializing tuple list\n",
        "li = [ (1, 10, 0), (8, 4, 1), (5, 2, 9), (11, 10, 9) ]\n",
        "\n",
        "# using starmap() for selection value acc. to function\n",
        "# selects min of all tuple values\n",
        "print (\"The values acc. to function are : \", end =\"\")\n",
        "print (list(itertools.starmap(min, li)))\n"
      ],
      "metadata": {
        "colab": {
          "base_uri": "https://localhost:8080/"
        },
        "id": "QRsaZp8DVuvb",
        "outputId": "26b5ad2f-cb99-4178-8e69-dde8f2eadfce"
      },
      "execution_count": 18,
      "outputs": [
        {
          "output_type": "stream",
          "name": "stdout",
          "text": [
            "The values acc. to function are : [0, 1, 2, 9]\n"
          ]
        }
      ]
    },
    {
      "cell_type": "markdown",
      "source": [
        "# 10. ***takewhile(func, iterable):*** This iterator is the opposite of dropwhile(), it prints the values till the function returns false for 1st time.\n",
        "Example"
      ],
      "metadata": {
        "id": "uAaq-76hWNTI"
      }
    },
    {
      "cell_type": "code",
      "source": [
        "# Python code to demonstrate the working of\n",
        "# takewhile()\n",
        "\n",
        "\n",
        "import itertools\n",
        "\n",
        "# initializing list\n",
        "li = [2, 4, 5, 7, 9, 10, 20]\n",
        "\n",
        "# using takewhile() to print values till condition is false.\n",
        "print (\"The list values till 1st false value are : \", end =\"\")\n",
        "print (list(itertools.takewhile(lambda x : x % 2 == 0, li )))\n"
      ],
      "metadata": {
        "colab": {
          "base_uri": "https://localhost:8080/"
        },
        "id": "InB7YxcRWVcq",
        "outputId": "735e266b-abca-4e1c-f3ff-684e75f746a6"
      },
      "execution_count": 19,
      "outputs": [
        {
          "output_type": "stream",
          "name": "stdout",
          "text": [
            "The list values till 1st false value are : [2, 4]\n"
          ]
        }
      ]
    },
    {
      "cell_type": "markdown",
      "source": [
        "##11 ***tee(iterator, count):- ***This iterator splits the container into a number of iterators mentioned in the argument."
      ],
      "metadata": {
        "id": "Akx4db0kWtV6"
      }
    },
    {
      "cell_type": "code",
      "source": [
        "# Python code to demonstrate the working of\n",
        "# tee()\n",
        "\n",
        "\n",
        "import itertools\n",
        "\n",
        "# initializing list\n",
        "li = [12, 1, 62, 75, 18, 10, 200]\n",
        "\n",
        "# storing list in iterator\n",
        "iti = iter(li)\n",
        "\n",
        "# using tee() to make a list of iterators\n",
        "# makes list of 3 iterators having same values.\n",
        "it = itertools.tee(iti, 3)\n",
        "\n",
        "# printing the values of iterators\n",
        "print(\"The iterators are : \")\n",
        "for i in range(0, 3):\n",
        "\tprint(list(it[i]))\n"
      ],
      "metadata": {
        "colab": {
          "base_uri": "https://localhost:8080/"
        },
        "id": "pOXnIw-aW0vX",
        "outputId": "e82f13cb-d793-4863-8269-482cd34fd7be"
      },
      "execution_count": 20,
      "outputs": [
        {
          "output_type": "stream",
          "name": "stdout",
          "text": [
            "The iterators are : \n",
            "[12, 1, 62, 75, 18, 10, 200]\n",
            "[12, 1, 62, 75, 18, 10, 200]\n",
            "[12, 1, 62, 75, 18, 10, 200]\n"
          ]
        }
      ]
    },
    {
      "cell_type": "markdown",
      "source": [
        "#12 ***zip_longest( iterable1, iterable2, fillval):***\n",
        " This iterator prints the values of iterables alternatively in sequence. If one of the iterables is printed fully, the remaining values are filled by the values assigned to fillvalue"
      ],
      "metadata": {
        "id": "0lmDcV0FXEkV"
      }
    },
    {
      "cell_type": "code",
      "source": [
        "# Python code to demonstrate the working of\n",
        "# zip_longest()\n",
        "\n",
        "\n",
        "import itertools\n",
        "\n",
        "# using zip_longest() to combine two iterables.\n",
        "print(\"The combined values of iterables is : \")\n",
        "print(*(itertools.zip_longest('Rithika', 'rahul', fillvalue='_')))\n"
      ],
      "metadata": {
        "colab": {
          "base_uri": "https://localhost:8080/"
        },
        "id": "ngf4KJkZXcer",
        "outputId": "ca4e6c26-03b2-4de6-e119-606dae546c32"
      },
      "execution_count": 21,
      "outputs": [
        {
          "output_type": "stream",
          "name": "stdout",
          "text": [
            "The combined values of iterables is : \n",
            "('R', 'r') ('i', 'a') ('t', 'h') ('h', 'u') ('i', 'l') ('k', '_') ('a', '_')\n"
          ]
        }
      ]
    }
  ]
}